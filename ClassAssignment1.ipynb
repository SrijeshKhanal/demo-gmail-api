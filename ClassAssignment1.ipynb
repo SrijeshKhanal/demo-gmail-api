{
  "nbformat": 4,
  "nbformat_minor": 0,
  "metadata": {
    "colab": {
      "provenance": [],
      "authorship_tag": "ABX9TyMP51K60o7X3ZcAkT/rDK21",
      "include_colab_link": true
    },
    "kernelspec": {
      "name": "python3",
      "display_name": "Python 3"
    },
    "language_info": {
      "name": "python"
    }
  },
  "cells": [
    {
      "cell_type": "markdown",
      "metadata": {
        "id": "view-in-github",
        "colab_type": "text"
      },
      "source": [
        "<a href=\"https://colab.research.google.com/github/SrijeshKhanal/demo-gmail-api/blob/master/ClassAssignment1.ipynb\" target=\"_parent\"><img src=\"https://colab.research.google.com/assets/colab-badge.svg\" alt=\"Open In Colab\"/></a>"
      ]
    },
    {
      "cell_type": "code",
      "execution_count": 11,
      "metadata": {
        "id": "ZMLk3eKoqZcz"
      },
      "outputs": [],
      "source": [
        "#Q1\n",
        "\n",
        "class Vehicle:\n",
        "  def __init__(self, name_of_vehicle, max_speed, average_of_vehichle):\n",
        "    self.name_of_vehicle = name_of_vehicle\n",
        "    self.max_speed = max_speed\n",
        "    self.average_of_vehichle = average_of_vehichle\n",
        "\n"
      ]
    },
    {
      "cell_type": "code",
      "source": [],
      "metadata": {
        "id": "RuDms5Rbtx5o"
      },
      "execution_count": null,
      "outputs": []
    },
    {
      "cell_type": "code",
      "source": [
        "#Q2\n",
        "\n",
        "class Car(Vehicle):\n",
        "  def __init__(self, name_of_vehicle, max_speed, average_of_vehichle):\n",
        "    super().__init__(name_of_vehicle, max_speed, average_of_vehichle)\n",
        "    self.name_of_vehicle = name_of_vehicle\n",
        "    self.max_speed = max_speed\n",
        "    self.average_of_vehichle = average_of_vehichle\n",
        "  def seating_capacity(self, capacity):\n",
        "    return f\"Name of vehicle is : {self.name_of_vehicle} and its capacity is : {capacity}\"\n",
        "\n",
        "\n",
        "car1 = Car(\"Toyata\", 100, 200)\n",
        "result1 = car1.seating_capacity(6)\n",
        "print(result1)\n"
      ],
      "metadata": {
        "colab": {
          "base_uri": "https://localhost:8080/"
        },
        "id": "OIHTyBvTr8BA",
        "outputId": "fa9faf39-7379-4378-f15b-43523ab3914b"
      },
      "execution_count": 14,
      "outputs": [
        {
          "output_type": "stream",
          "name": "stdout",
          "text": [
            "Name of vehicle is : Toyata and its capacity is : 6\n"
          ]
        }
      ]
    },
    {
      "cell_type": "markdown",
      "source": [
        "Multiple inheritance is one of the type of inheritance in which two base class is in herited from one parent class.\n",
        "\n",
        "Example\n",
        "\n",
        "class Animal:\n",
        "  pass\n",
        "\n",
        "class Dog(Animal):\n",
        "  pass\n",
        "  \n",
        "class Cat(Animal):\n",
        "  pass"
      ],
      "metadata": {
        "id": "NtiS8YOVvac0"
      }
    },
    {
      "cell_type": "code",
      "source": [
        "#Q3 and Q4\n",
        "class Person():\n",
        "  #class variable\n",
        "  course_time = \"Day\"\n",
        "  def __init__(self, name, age, gender):\n",
        "    self.name = name\n",
        "    self.__age = age\n",
        "    self.gender = gender\n",
        "\n",
        "  def say_hello(self):\n",
        "    return f\"Hello from {self.name}\"\n",
        "\n",
        "  def set_age(self, new_age):\n",
        "    self.__age = new_age\n",
        "\n",
        "  def get_age(self):\n",
        "    return self.__age\n",
        "\n",
        "\n",
        "  def is_adult(self):\n",
        "    if(self.__age >= 18):\n",
        "      return \"True\"\n",
        "    else:\n",
        "      return \"False\"\n",
        "\n",
        "class Student(Person):\n",
        "  def __init__(self, name, age, gender, student_id, course):\n",
        "    super().__init__(name, age, gender)\n",
        "    self.student_id = student_id\n",
        "    self.course = course\n",
        "\n",
        "  def show_student_info(self):\n",
        "    return f\"The student name {self.name} with student_id {self.student_id} studies {self.course}.\"\n",
        "\n",
        "\n",
        "class Teacher(Person):\n",
        "  def __init__(self, name, age, gender, teacher_id, subject):\n",
        "    super().__init__(name, age, gender)\n",
        "    self.teacher_id = teacher_id\n",
        "    self.subject = subject\n",
        "\n",
        "  #Polymorphism\n",
        "  def say_hello(self):\n",
        "    return f\"Hello from teacher {self.name}\"\n",
        "\n",
        "  def show_teacher(self):\n",
        "    return f\"{self.name} teacher with id {self.teacher_id} teaches subject {self.subject} where course time is {Person.course_time}\"\n",
        "\n",
        "\n",
        "\n",
        "person1 = Person(\"Srijesh\", 30, \"Male\")\n",
        "print(person1.say_hello())\n",
        "person1.is_adult()\n",
        "print(\"Age is private: \" + str(person1.get_age()))\n",
        "\n",
        "student1 = Student(\"Milan\", 18, \"Male\", 101118, \"Scala\")\n",
        "print(student1.show_student_info())\n",
        "\n",
        "teacher1 = Teacher(\"Arun\", 29, \"Male\", 9011, \"Python\")\n",
        "print(teacher1.say_hello())\n",
        "print(teacher1.show_teacher())\n",
        "\n",
        "\n",
        "\n",
        "\n"
      ],
      "metadata": {
        "colab": {
          "base_uri": "https://localhost:8080/"
        },
        "id": "Kw-92LkRw3R9",
        "outputId": "d3219833-6df0-46dc-cfc2-9e7828bcdc8b"
      },
      "execution_count": 34,
      "outputs": [
        {
          "output_type": "stream",
          "name": "stdout",
          "text": [
            "Hello from Srijesh\n",
            "Age is private: 30\n",
            "The student name Milan with student_id 101118 studies Scala.\n",
            "Hello from teacher Arun\n",
            "Arun teacher with id 9011 teaches subject Python where course time is Day\n"
          ]
        }
      ]
    }
  ]
}